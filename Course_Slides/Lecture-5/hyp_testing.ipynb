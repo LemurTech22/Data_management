{
 "cells": [
  {
   "cell_type": "markdown",
   "id": "15c2cbf6-296b-4832-a63f-09f67386c4b3",
   "metadata": {},
   "source": [
    "\n",
    "### Introduction:   \n",
    "\n",
    "TripAdvisor is a well-established website providing travel information, hotel reviews and other trip-related content. The vast majority of the content is user generated and the scraped datasets can be used to perform inferential data analysis of various factors that affect a rating.\n",
    "\n",
    "### Dataset:\n",
    "\n",
    "Las Vegas Strip. (2017). UCI Machine Learning Repository.\n",
    "https://archive.ics.uci.edu/dataset/397/las+vegas+strip\n",
    "\n",
    "\n",
    " \n",
    "This dataset is a sample of TripAdvisor Hotel reviews of 21 hotels located in Las Vegas. The dataset contains 504 records with 20 attributes each. There are 24 records per hotel (two per each month, randomly selected), for the year 2015.\n",
    "\n",
    "We will probe the basic dataset attributes and hopefully uncover some interesting effects from the data.\n",
    "\n"
   ]
  },
  {
   "cell_type": "code",
   "execution_count": 2,
   "id": "2927e829-9844-4a7f-991c-12affe6b79e6",
   "metadata": {},
   "outputs": [],
   "source": [
    "from scipy.stats import t\n",
    "import scipy.stats as stats\n",
    "import pandas as pd \n",
    "import numpy as np \n",
    "data=pd.read_csv('/Users/isha/Downloads/LasVegasTripAdvisorReviews-Dataset.csv',sep=';')\n"
   ]
  },
  {
   "cell_type": "markdown",
   "id": "4f48033b-3d85-4b1d-8adb-efe30d98f31b",
   "metadata": {},
   "source": [
    "## Hypothesis 1\n",
    "## T-test\n",
    "\n",
    "**Problem statement:**<br>\n",
    "Excalibur Hotel & Casino has an average rating of 3(stars) as per TripAdvisor. We have a sample of 24 ratings given by TripAdvisor users for this hotel. Does the average hotel rating given by the user differs from that of the rating given by TripAdvisor?\n",
    "\n",
    "**Test and Hypothesis:**<br>\n",
    "We are going to perform a 2-sided T-test to see if the following hypothesis holds<br>\n",
    "`H0: average hotel rating provided by the user is equal to 3(stars)`<br>\n",
    "`H1: average hotel rating provided by the user is not equal to 3(stars)`<br>\n",
    "significance level alpha = 0.05\n",
    "\n",
    "**Dataset variable:**<br>\n",
    "Score: Average hotel rating(stars) as per the user<br>\n",
    "Hotel_stars: Average hotel rating(stars) as per TripAdvisor<br>\n",
    "\n",
    "\n"
   ]
  },
  {
   "cell_type": "code",
   "execution_count": 3,
   "id": "0685d68c-3e7b-4970-85a6-df51eef84b42",
   "metadata": {},
   "outputs": [
    {
     "name": "stdout",
     "output_type": "stream",
     "text": [
      "p value is less than or equal to alpha so we reject the null hypothesis\n"
     ]
    }
   ],
   "source": [
    "#average rating of the Excalibur Hotel & Casino given by the user \n",
    "avg_rating = data[data['Hotel name']=='Excalibur Hotel & Casino']['Score'].mean()\n",
    "#standard deviation of the rating\n",
    "std= data[data['Hotel name']=='Excalibur Hotel & Casino']['Score'].std()\n",
    "#no of records for Excalibur Hotel & Casino\n",
    "sample_data=len(data[data['Hotel name']=='Excalibur Hotel & Casino'])\n",
    "#rating of the Excalibur Hotel & Casino given by TripAdvisor\n",
    "mu_not = 3\n",
    "\n",
    "\n",
    "\n",
    "population_mean=mu_not\n",
    "sample_mean = avg_rating\n",
    "\n",
    "## significance level \n",
    "alpha = 0.05\n",
    "  \n",
    "# calculating t-value    \n",
    "t_score = (sample_mean - population_mean) / (std / np.sqrt(sample_data))\n",
    "\n",
    "# Degrees of freedom\n",
    "df = sample_data - 1\n",
    "\n",
    "# Calculate p-value\n",
    "p_value = 2 * (1 - t.cdf(np.abs(t_score), df))\n",
    "\n",
    "\n",
    "if (p_value <= alpha):\n",
    "    print(\"p value is less than or equal to alpha so we reject the null hypothesis\")\n",
    "else:\n",
    "    print(\"p value greater than alpha, we fail to reject the null hypothesis\")\n",
    "\n"
   ]
  },
  {
   "cell_type": "markdown",
   "id": "7bd729f2-7252-4b53-ad46-93a549591a0e",
   "metadata": {},
   "source": [
    "Hence we could conclude that <br>\n",
    "`H1: average hotel rating provided by the user is not equal to 3(stars)`"
   ]
  },
  {
   "cell_type": "markdown",
   "id": "83997c79-9864-49aa-95a5-194b827803c9",
   "metadata": {},
   "source": [
    "# Hypothesis 2 \n",
    "## Z-test\n",
    "\n",
    "**Problem statement:**<br>\n",
    "From the analysis of the data we could see that the majority of travelers are couples. There is an estimate that almost one third of the people travelling to Las Vegas are couples and the rest are divided under business, families, friends and solo travelers. We are going to use a 1-sided Z-test to see if the proportion of type of travelers is skewed towards Couples.\n",
    "\n",
    "\n",
    "**Test and Hypothesis:** <br>\n",
    "We are going to perform a 1-sided Z-test to see if the following hypothesis holds <br>\n",
    "`H0: p <= 0.33` <br>\n",
    "`H1: p > 0.33`  <br>\n",
    "significance level alpha = 0.05\n"
   ]
  },
  {
   "cell_type": "code",
   "execution_count": 4,
   "id": "fa2e5d3f-496a-4729-92d6-af43a1ed2a00",
   "metadata": {},
   "outputs": [
    {
     "name": "stdout",
     "output_type": "stream",
     "text": [
      "p_value is less than or equal to alpha so we reject the null hypothesis\n"
     ]
    }
   ],
   "source": [
    "## We are talking about proportion here which is different than the mean\n",
    "couples = len(data[data['Traveler type']=='Couples'])\n",
    "\n",
    "#Total no of records\n",
    "n =len(data)\n",
    "  \n",
    "x = couples\n",
    "alpha = 0.05 \n",
    "p_0 = 0.33\n",
    "\n",
    "  \n",
    "p_cap = x/n\n",
    "  \n",
    "z =(p_cap - p_0)/(np.sqrt(p_0*(1-p_0)/n))\n",
    "p_value = 1 - stats.norm.cdf(z)\n",
    "  \n",
    "if (p_value <= alpha):\n",
    "    print (\"p_value is less than or equal to alpha so we reject the null hypothesis\")\n",
    "else:\n",
    "    print (\"p value is greater than alpha so we fail to reject the null hypothesis\")"
   ]
  },
  {
   "cell_type": "markdown",
   "id": "eca4dd2e-7c10-4918-8cae-674f04843ffa",
   "metadata": {},
   "source": [
    "Hence we could conclude that <br>\n",
    "`H1: p > 0.33`  <br>"
   ]
  },
  {
   "cell_type": "markdown",
   "id": "43736746-692d-451f-bf1b-e1b9e4c9339c",
   "metadata": {},
   "source": [
    "# Hypothesis 3 \n",
    "## ANOVA Test \n",
    "\n",
    "**Problem statement:**\n",
    "The dataset contains data on various Las Vegas hotel reviews submitted by the users. The users have been differentiated into multiple categories. We want to find out if the average number of hotel reviews done by users travelling with Families or Friends or as couples is the same.<br>\n",
    "\n",
    "**Test and Hypothesis:**\n",
    "We are going to perform a one way ANOVA Test and perform multiple comparisons on the sample of users from 3 different categories of Traveler type (families, friends and couples).<br>\n",
    "`H0: The average no. of hotel reviews done by users from all 3 categories is the same.`<br>\n",
    "`H1: The average no. of hotel reviews done by users from all 3 categories is not the same.`<br>\n",
    "significance level alpha = 0.05\n",
    "\n",
    "\n",
    "**Dataset variable:**<br>\n",
    "Traveler_type: Couples, families and friends<br>\n",
    "Nr_Hotel_reviews: no of hotel reviews done by the user<br>\n",
    "\n"
   ]
  },
  {
   "cell_type": "code",
   "execution_count": 5,
   "id": "ed0ed446-2bda-45af-9fdd-d57fa9d4549e",
   "metadata": {},
   "outputs": [
    {
     "name": "stdout",
     "output_type": "stream",
     "text": [
      "the p-value is 0.12979067950534684\n",
      "p value greater than alpha, we fail to reject the null hypothesis\n"
     ]
    }
   ],
   "source": [
    "group_a=data[data['Traveler type']=='Couples']['Score'].tolist()\n",
    "group_b=data[data['Traveler type']=='Friends']['Score'].tolist()\n",
    "group_c=data[data['Traveler type']=='Families']['Score'].tolist()\n",
    "f_stat, p_value = stats.f_oneway(group_a, group_b, group_c)\n",
    "print ('the p-value is {}'.format(p_value))\n",
    "\n",
    "if (p_value <= alpha):\n",
    "    print(\"p value is less than or equal to alpha so we reject the null hypothesis\")\n",
    "else:\n",
    "    print(\"p value greater than alpha, we fail to reject the null hypothesis\")\n",
    "\n"
   ]
  },
  {
   "cell_type": "markdown",
   "id": "4d4da718-7a5c-4267-a652-5f8477c84ba1",
   "metadata": {},
   "source": [
    "`H0: The average no. of hotel reviews done by users from all 3 categories is the same.`<br>\n"
   ]
  },
  {
   "cell_type": "markdown",
   "id": "6f490b3c-5a89-4641-9e89-263b652bdaf7",
   "metadata": {},
   "source": [
    "# Hypothesis 4\n",
    "## Chi-squared test (categorical data analysis) on bivariate relationships:\n",
    "\n",
    "**Problem statement:**\n",
    "To examine if the fact that a hotel has a tennis court as an Amenity, has any association with the type of travelers (Business or Friends or Families) staying at that hotel.<br>\n",
    "\n",
    "**Test and Hypothesis:**\n",
    "We are going to perform chi-squared Test on the 3 different categories of Traveler types (families, friends and Business).<br>\n",
    "`H0: Presence of tennis court as an amenity is independent of the traveler type`<br>\n",
    "`H1: There is an association between the presence of tennis court as an amenity and the traveler type.`<br>\n",
    "significance level alpha = 0.05\n",
    "\n",
    "\n",
    "**Dataset variable:**<br>\n",
    "Traveler_type: Business, friends and families<br>\n",
    "Tennis_court:  If the hotel has a tennis court<br>"
   ]
  },
  {
   "cell_type": "code",
   "execution_count": 6,
   "id": "b139f14e-2631-4776-82fe-ba6a4592a757",
   "metadata": {},
   "outputs": [
    {
     "name": "stdout",
     "output_type": "stream",
     "text": [
      "Chi-square statistic: 3.523339113806147\n",
      "P-value: 0.17175786478029847\n",
      "Degrees of freedom: 2\n",
      "Expected frequencies: [[25.22556391 84.77443609]\n",
      " [18.80451128 63.19548872]\n",
      " [16.96992481 57.03007519]]\n",
      "p value greater than alpha, we fail to reject the null hypothesis\n"
     ]
    }
   ],
   "source": [
    "from scipy.stats import chi2_contingency\n",
    "\n",
    "## preparing values for contingency table \n",
    "families_tennis_yes=len(data[(data['Traveler type']=='Families') & (data['Tennis court']=='YES')])\n",
    "families_tennis_no=len(data[(data['Traveler type']=='Families') & (data['Tennis court']=='NO')])\n",
    "friends_tennis_yes=len(data[(data['Traveler type']=='Friends') & (data['Tennis court']=='YES')])\n",
    "friends_tennis_no=len(data[(data['Traveler type']=='Friends') & (data['Tennis court']=='NO')])\n",
    "business_tennis_yes=len(data[(data['Traveler type']=='Business') & (data['Tennis court']=='YES')])\n",
    "business_tennis_no=len(data[(data['Traveler type']=='Business') & (data['Tennis court']=='NO')])\n",
    "observed = np.array([[19, 91],\n",
    "                     [23, 59],\n",
    "                     [19, 55]])\n",
    "\n",
    "# Perform chi-square test\n",
    "chi2, p_value, dof, expected = chi2_contingency(observed)\n",
    "\n",
    "# Print the chi-square test results\n",
    "print(\"Chi-square statistic:\", chi2)\n",
    "print(\"P-value:\", p_value)\n",
    "print(\"Degrees of freedom:\", dof)\n",
    "print(\"Expected frequencies:\", expected)\n",
    "\n",
    "if (p_value <= alpha):\n",
    "    print(\"p value is less than or equal to alpha so we reject the null hypothesis\")\n",
    "else:\n",
    "    print(\"p value greater than alpha, we fail to reject the null hypothesis\")\n",
    "\n"
   ]
  },
  {
   "cell_type": "markdown",
   "id": "af4d3c36-4541-4409-85d5-dbb4897660d2",
   "metadata": {},
   "source": [
    "`H0: Presence of tennis court as an amenity is independent of the traveler type`<br>\n"
   ]
  },
  {
   "cell_type": "code",
   "execution_count": null,
   "id": "2da1276f-151e-4797-bd09-a66b81462644",
   "metadata": {},
   "outputs": [],
   "source": []
  }
 ],
 "metadata": {
  "kernelspec": {
   "display_name": "myenv",
   "language": "python",
   "name": "myenv"
  },
  "language_info": {
   "codemirror_mode": {
    "name": "ipython",
    "version": 3
   },
   "file_extension": ".py",
   "mimetype": "text/x-python",
   "name": "python",
   "nbconvert_exporter": "python",
   "pygments_lexer": "ipython3",
   "version": "3.11.3"
  }
 },
 "nbformat": 4,
 "nbformat_minor": 5
}
